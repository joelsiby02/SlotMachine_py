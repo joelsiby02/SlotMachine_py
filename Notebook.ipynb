{
 "cells": [
  {
   "cell_type": "markdown",
   "id": "84e817ea-7731-4a61-8c85-47d938c53694",
   "metadata": {},
   "source": [
    "# Logic Building on building a real time Slot Machine Project"
   ]
  },
  {
   "cell_type": "code",
   "execution_count": 5,
   "id": "38ad7ca1-962c-4508-a22a-dcc372d5bf8a",
   "metadata": {},
   "outputs": [],
   "source": [
    "import random # python package to random some numbers\n",
    "# global varibale\n",
    "MAX_LINES = 3 \n",
    "MAX_BET = 100\n",
    "MIN_BET = 1\n",
    "\n",
    "ROWS = MAX_LINES\n",
    "COLS = MAX_LINES"
   ]
  },
  {
   "cell_type": "code",
   "execution_count": 25,
   "id": "52b11ed2-7202-4686-a5c1-c4a7badd2d4f",
   "metadata": {},
   "outputs": [],
   "source": [
    "# default initilize for custom symbols (A,B,C,D) for using the random package to random the sequence of slot in the slot machiene \n",
    "symbol_count = {\n",
    "    \"A\":3,\n",
    "    \"B\":4,\n",
    "    \"C\":6,\n",
    "    \"D\":8\n",
    "}\n",
    "\n",
    "symbol_count = {\n",
    "    \"A\":5,\n",
    "    \"B\":4,\n",
    "    \"C\":3,\n",
    "    \"D\":2\n",
    "}"
   ]
  },
  {
   "cell_type": "markdown",
   "id": "dd065b61-adc3-4d4b-9832-37cde0556caf",
   "metadata": {},
   "source": [
    "## Tasks\n",
    "- Collect deposit from the user \n",
    "- Collect how many lines user would want to bet?\n",
    "- collect bet amount from the user\n",
    "- Should check if the amount they are betting is within their budget range & display how much do they require to continue\n",
    "- create default dict for symbol_count & initlize them at top along with Global variblaes & package import\n",
    "- concatenate our custom dict into a list to help random package to random them\n",
    "- Function to print the slot machine columns in a Matrix way\n",
    "- Function to check if the user wins and calculate their winnings based on the provided symbol values\n",
    "- a fn to keep the game going and let user quit if not anymore intr\n",
    "- A main fn to wrap it all\n",
    "- create a .py file for the game\n",
    "- Push to git"
   ]
  },
  {
   "cell_type": "code",
   "execution_count": 7,
   "id": "01634b24-121b-4a62-9f39-5c42f20e0fd0",
   "metadata": {},
   "outputs": [],
   "source": [
    "# Collecting deposit from the user\n",
    "def deposit():\n",
    "    while True: # Condition to keep infinite run untill user input something\n",
    "        amount = input(\"What would you like to deposit? $\")\n",
    "        #checks if the inputted amount is digit instead of random str, bool or anything other than digits\n",
    "        if amount.isdigit(): # checks if input is digit\n",
    "            amount = int(amount) # by default input comes as str, we have to convert it into a int in case of our use Case\n",
    "            if amount > 0: # if user amount is greater than 0 , its valid\n",
    "                break\n",
    "            else: # user must have inputted 0\n",
    "                print(\"Amount must be greater than 0 $\")\n",
    "        else: # user inputted some other thing insted of digit\n",
    "            print(\"Please enter a number\")\n",
    "    return amount"
   ]
  },
  {
   "cell_type": "code",
   "execution_count": 8,
   "id": "e7149771-9e0d-45aa-b28f-b9ac651c9150",
   "metadata": {},
   "outputs": [],
   "source": [
    "# Collect how many lines user would want to bet?\n",
    "def getNumberOfLines():\n",
    "    while True: # Condition to keep infinite run untill user input something\n",
    "        lines = input(\"How many lines would you like to bet (1-\" + str(MAX_LINES) + \")? \")\n",
    "        #checks if the inputted amount is digit instead of random str, bool or anything other than digits\n",
    "        if lines.isdigit(): # checks if input is digit\n",
    "            lines = int(lines) # by default input comes as str, we have to convert it into a int in case of our use Case\n",
    "            if 1 <= lines <= MAX_LINES: # if user amount is greater than 0 , its valid\n",
    "                break\n",
    "            else: # user must have inputted 0\n",
    "                print(\"Enter a valid number of lines that ranges from (1-\" + str(MAX_LINES) + \")?\")\n",
    "        else: # user inputted some other thing insted of digit\n",
    "            print(\"Please enter a number\")\n",
    "    return lines"
   ]
  },
  {
   "cell_type": "code",
   "execution_count": 9,
   "id": "e3a60f5b-c1f5-44a8-877d-9fe89ca68dda",
   "metadata": {},
   "outputs": [],
   "source": [
    "# collect bet amount from the user\n",
    "def get_bet():\n",
    "    while True: # Condition to keep infinite run untill user input something\n",
    "        betAmount = input(f\"Enter a valid amount you would like to bet on each line that ranges from ${MIN_BET} - ${MAX_BET}\")\n",
    "        #checks if the inputted amount is digit instead of random str, bool or anything other than digits\n",
    "        if betAmount.isdigit(): # checks if input is digit\n",
    "            betAmount = int(betAmount) # by default input comes as str, we have to convert it into a int in case of our use Case\n",
    "            if MIN_BET <= betAmount <= MAX_BET: # if user amount is greater than MIN_BET which is 1 , its valid\n",
    "                break\n",
    "            else: # user must have inputted 0\n",
    "                print(f\"Amount must be between ${MIN_BET} - ${MAX_BET}\")\n",
    "        else: # user inputted some other thing insted of digit\n",
    "            print(\"Please enter a valid Amount\")\n",
    "    return betAmount"
   ]
  },
  {
   "cell_type": "code",
   "execution_count": 27,
   "id": "6df40aaa-e619-4be2-a050-4132897dc7e5",
   "metadata": {},
   "outputs": [],
   "source": [
    "# refer our custom dict with this fn code\n",
    "\n",
    "# symbol_count = {\n",
    "#     \"A\":3,\n",
    "#     \"B\":4,\n",
    "#     \"C\":6,\n",
    "#     \"D\":8\n",
    "# }\n",
    "\n",
    "# to concatenate our custom dict into a list to help random package to random them\n",
    "def get_slot_machine_spins(rows, cols, symbols):\n",
    "    # symbols are in dict dtype\n",
    "    symbol_list = [] # store the results after the for loop performance\n",
    "    for key, val in symbols.items(): # loop through key & val form a dict\n",
    "        for _ in range(val):\n",
    "            symbol_list.append(key)\n",
    "\n",
    "    # now we want to dispaly the symbol_list appeneded into a matrix format as similar to a slot machine ' [] [] [] '\n",
    "                                                                                                         # [] [] []\n",
    "                                                                                                         # [] [] []\n",
    "    \n",
    "     # the columns i would want to store my appeneded result\n",
    "    columns = []  # This list will store our columns of symbols\n",
    "    for _ in range(cols):  # Loop through each column we want\n",
    "        column = []  # Create a new empty column\n",
    "        current_symbol = symbol_list[:]  # Make a copy of symbol_list for this column\n",
    "    \n",
    "        # Loop through each row in the column\n",
    "        for _ in range(rows):\n",
    "            value = random.choice(current_symbol)  # Pick a random symbol from the list\n",
    "            current_symbol.remove(value)  # Remove the chosen symbol from the list to avoid repetition\n",
    "            column.append(value)  # Add the symbol to the column\n",
    "            \n",
    "        columns.append(column)  # Add the filled column to the list of columns\n",
    "    return columns"
   ]
  },
  {
   "cell_type": "code",
   "execution_count": 19,
   "id": "fa37b649-7324-44ee-8f6f-82e1d6765f65",
   "metadata": {},
   "outputs": [],
   "source": [
    "# Function to print the slot machine columns in a visually appealing way\n",
    "def print_slot_machine(columns):\n",
    "    # Loop through each row of the slot machine\n",
    "    for row in range(len(columns[0])):\n",
    "        # Loop through each column of the slot machine\n",
    "        for i, column in enumerate(columns):\n",
    "            # Check if it's not the last column\n",
    "            if i != len(columns) - 1:\n",
    "                # Print the symbol followed by a separator\n",
    "                print(column[row], end=\" | \")\n",
    "            else:\n",
    "                # Print the symbol without a separator at the end of the row\n",
    "                print(column[row], end=\"\")\n",
    "\n",
    "        # Move to the next line after printing symbols of all columns in the current row\n",
    "        print()"
   ]
  },
  {
   "cell_type": "code",
   "execution_count": 43,
   "id": "fea27f91-81c6-43e2-bde3-68e525a9f093",
   "metadata": {},
   "outputs": [],
   "source": [
    "# to check win & calcuate the amount they would win based on our custom symbol\n",
    "# symbol_count = {\n",
    "#     \"A\":5,\n",
    "#     \"B\":4,\n",
    "#     \"C\":3,\n",
    "#     \"D\":2\n",
    "# }\n",
    "# Function to check if the user wins and calculate their winnings based on the provided symbol values\n",
    "def check_win(columns, lines, bet, values):\n",
    "    winnings = 0  # Variable to store the total winnings\n",
    "    winning_lines = []  # List to store the line numbers where the user wins\n",
    "    \n",
    "    # Loop through each line selected by the user\n",
    "    for line in range(lines):\n",
    "        symbol = columns[0][line]  # Get the symbol from the first column of the current line\n",
    "        # Check if all symbols in this line are the same\n",
    "        for col in columns:\n",
    "            symbol_to_check = col[line]  # Get the symbol from the current column of the current line\n",
    "            # If the symbol in this column is different, break out of the loop\n",
    "            if symbol != symbol_to_check:\n",
    "                break\n",
    "        else:\n",
    "            # If all symbols in this line are the same, calculate the winnings\n",
    "            winnings += values[symbol] * bet  # Add the winnings for this line to the total winnings\n",
    "            winning_lines.append(line + 1)  # Add the line number to the list of winning lines\n",
    "    \n",
    "    # Return the total winnings and the list of winning lines\n",
    "    return winnings, winning_lines"
   ]
  },
  {
   "cell_type": "code",
   "execution_count": 44,
   "id": "16cbcc85-56d8-4e33-acbf-8273c5427dfd",
   "metadata": {},
   "outputs": [],
   "source": [
    "# a fn to keep the game going and let user quit if not anymore intrested\n",
    "def gameSpin(balance):\n",
    "    lines = getNumberOfLines()  # Get the number of lines the user wants to play\n",
    "    # Ensure the user has enough balance to place the bet\n",
    "    while True:\n",
    "        bet = get_bet()  # Get the bet amount from the user\n",
    "        total_bet = bet * lines  # Calculate the total bet amount\n",
    "        stillNeed = total_bet - balance  # Calculate the additional amount needed if the balance is insufficient\n",
    "        # Check if the total bet exceeds the user's balance\n",
    "        if total_bet > balance:\n",
    "            print(f\"You do not have enough amount to bet. Your current balance is ${balance}. You still need {stillNeed} more dollars to proceed.\")\n",
    "        else:\n",
    "            break  # Exit the loop if the user has enough balance\n",
    "    print(f\"You're betting ${bet} on {lines} lines. Total bet is equal to: ${total_bet}\")\n",
    "\n",
    "    # Generate the slot machine spins\n",
    "    slots = get_slot_machine_spins(ROWS, COLS, symbol_count)\n",
    "    # Print the slot machine grid\n",
    "    print_slot_machine(slots)\n",
    "    # Check if the user wins and calculate the winnings\n",
    "    winnings, winning_lines = check_win(slots, lines, bet, symbol_count)\n",
    "    print(f\"You won ${winnings}.\")\n",
    "    print(\"You won on: \", *winning_lines)\n",
    "    # Calculate the net winnings after deducting the total bet\n",
    "    return winnings - total_bet"
   ]
  },
  {
   "cell_type": "code",
   "execution_count": null,
   "id": "3ee2d841-1301-466c-9ef2-0087893bac80",
   "metadata": {},
   "outputs": [],
   "source": []
  },
  {
   "cell_type": "code",
   "execution_count": 45,
   "id": "b1083377-29ba-4713-bc66-d503da5a1a03",
   "metadata": {},
   "outputs": [
    {
     "name": "stdin",
     "output_type": "stream",
     "text": [
      "What would you like to deposit? $ 1000\n"
     ]
    },
    {
     "name": "stdout",
     "output_type": "stream",
     "text": [
      "Current balance is $1000\n"
     ]
    },
    {
     "name": "stdin",
     "output_type": "stream",
     "text": [
      "Press enter to spin & q to quit. \n",
      "How many lines would you like to bet (1-3)?  3\n",
      "Enter a valid amount you would like to bet on each line that ranges from $1 - $100 20\n"
     ]
    },
    {
     "name": "stdout",
     "output_type": "stream",
     "text": [
      "You're betting $20 on 3 lines. Total bet is equal to: $60\n",
      "C | C | D\n",
      "B | A | A\n",
      "A | A | A\n",
      "You won $100.\n",
      "You won on:  3\n",
      "Current balance is $1040\n"
     ]
    },
    {
     "name": "stdin",
     "output_type": "stream",
     "text": [
      "Press enter to spin & q to quit. q\n"
     ]
    },
    {
     "name": "stdout",
     "output_type": "stream",
     "text": [
      "You left with $1040\n"
     ]
    }
   ],
   "source": [
    "def main():\n",
    "    # Get the initial balance from the user\n",
    "    balance = deposit()\n",
    "    \n",
    "    # Main game loop\n",
    "    while True:\n",
    "        print(f\"Current balance is ${balance}\")\n",
    "        spin = input(\"Press enter to spin & q to quit.\")  # Ask the user to spin or quit\n",
    "        if spin == \"q\":\n",
    "            break  # Exit the loop if the user wants to quit\n",
    "        # Play a spin and update the balance\n",
    "        balance += gameSpin(balance)\n",
    "\n",
    "    print(f\"You left with ${balance}\")  # Display the final balance when the user quits\n",
    "\n",
    "# Call the main function to start the game\n",
    "main()\n"
   ]
  },
  {
   "cell_type": "code",
   "execution_count": null,
   "id": "84da9bff-1dff-4f27-8001-de867300e342",
   "metadata": {},
   "outputs": [],
   "source": []
  },
  {
   "cell_type": "code",
   "execution_count": null,
   "id": "46cb7740-18c6-4d4d-87e6-f74fb55de464",
   "metadata": {},
   "outputs": [],
   "source": []
  },
  {
   "cell_type": "code",
   "execution_count": null,
   "id": "cfaecc90-bcb3-4567-a038-c9d5ba3a7090",
   "metadata": {},
   "outputs": [],
   "source": []
  },
  {
   "cell_type": "code",
   "execution_count": null,
   "id": "543566cf-a569-4854-9736-9319f3611db1",
   "metadata": {},
   "outputs": [],
   "source": []
  },
  {
   "cell_type": "code",
   "execution_count": null,
   "id": "36cb8958-3ce3-4a10-914f-8b93a870246d",
   "metadata": {},
   "outputs": [],
   "source": []
  },
  {
   "cell_type": "code",
   "execution_count": null,
   "id": "8d70d0c4-ced7-49b9-9134-1432aca8f1db",
   "metadata": {},
   "outputs": [],
   "source": []
  }
 ],
 "metadata": {
  "kernelspec": {
   "display_name": "slotMachiene",
   "language": "python",
   "name": "slotmachiene"
  },
  "language_info": {
   "codemirror_mode": {
    "name": "ipython",
    "version": 3
   },
   "file_extension": ".py",
   "mimetype": "text/x-python",
   "name": "python",
   "nbconvert_exporter": "python",
   "pygments_lexer": "ipython3",
   "version": "3.12.2"
  }
 },
 "nbformat": 4,
 "nbformat_minor": 5
}
