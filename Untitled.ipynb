{
 "cells": [
  {
   "cell_type": "markdown",
   "id": "84e817ea-7731-4a61-8c85-47d938c53694",
   "metadata": {},
   "source": [
    "# Logic Building on building a real time Slot Machine Project"
   ]
  },
  {
   "cell_type": "code",
   "execution_count": 40,
   "id": "38ad7ca1-962c-4508-a22a-dcc372d5bf8a",
   "metadata": {},
   "outputs": [],
   "source": [
    "import random # python package to random some numbers\n",
    "# global varibale\n",
    "MAX_LINES = 3 \n",
    "MAX_BET = 100\n",
    "MIN_BET = 1\n",
    "\n",
    "ROWS = MAX_LINES\n",
    "COLS = MAX_LINES"
   ]
  },
  {
   "cell_type": "code",
   "execution_count": 41,
   "id": "52b11ed2-7202-4686-a5c1-c4a7badd2d4f",
   "metadata": {},
   "outputs": [],
   "source": [
    "# default initilize for custom symbols (A,B,C,D) for using the random package to random the sequence of slot in the slot machiene \n",
    "symbol_count = {\n",
    "    \"A\":3,\n",
    "    \"B\":4,\n",
    "    \"C\":6,\n",
    "    \"D\":8\n",
    "}"
   ]
  },
  {
   "cell_type": "markdown",
   "id": "dd065b61-adc3-4d4b-9832-37cde0556caf",
   "metadata": {},
   "source": [
    "## Tasks\n",
    "- Collect deposit from the user \n",
    "- Collect how many lines user would want to bet?\n",
    "- collect bet amount from the user\n",
    "- Should check if the amount they are betting is within their budget range & display how much do they require to continue\n",
    "- create default dict for symbol_count & initlize them at top along with Global variblaes & package import\n",
    "-\n",
    "-\n",
    "-\n",
    "-\n",
    "-"
   ]
  },
  {
   "cell_type": "code",
   "execution_count": 6,
   "id": "01634b24-121b-4a62-9f39-5c42f20e0fd0",
   "metadata": {},
   "outputs": [],
   "source": [
    "# Collecting deposit from the user\n",
    "def deposit():\n",
    "    while True: # Condition to keep infinite run untill user input something\n",
    "        amount = input(\"What would you like to deposit? $\")\n",
    "        #checks if the inputted amount is digit instead of random str, bool or anything other than digits\n",
    "        if amount.isdigit(): # checks if input is digit\n",
    "            amount = int(amount) # by default input comes as str, we have to convert it into a int in case of our use Case\n",
    "            if amount > 0: # if user amount is greater than 0 , its valid\n",
    "                break\n",
    "            else: # user must have inputted 0\n",
    "                print(\"Amount must be greater than 0 $\")\n",
    "        else: # user inputted some other thing insted of digit\n",
    "            print(\"Please enter a number\")\n",
    "    return amount"
   ]
  },
  {
   "cell_type": "code",
   "execution_count": 23,
   "id": "e7149771-9e0d-45aa-b28f-b9ac651c9150",
   "metadata": {},
   "outputs": [],
   "source": [
    "# Collect how many lines user would want to bet?\n",
    "def getNumberOfLines():\n",
    "    while True: # Condition to keep infinite run untill user input something\n",
    "        lines = input(\"How many lines would you like to bet (1-\" + str(MAX_LINES) + \")? \")\n",
    "        #checks if the inputted amount is digit instead of random str, bool or anything other than digits\n",
    "        if lines.isdigit(): # checks if input is digit\n",
    "            lines = int(lines) # by default input comes as str, we have to convert it into a int in case of our use Case\n",
    "            if 1 <= lines <= MAX_LINES: # if user amount is greater than 0 , its valid\n",
    "                break\n",
    "            else: # user must have inputted 0\n",
    "                print(\"Enter a valid number of lines that ranges from (1-\" + str(MAX_LINES) + \")?\")\n",
    "        else: # user inputted some other thing insted of digit\n",
    "            print(\"Please enter a number\")\n",
    "    return lines"
   ]
  },
  {
   "cell_type": "code",
   "execution_count": 31,
   "id": "e3a60f5b-c1f5-44a8-877d-9fe89ca68dda",
   "metadata": {},
   "outputs": [],
   "source": [
    "# collect bet amount from the user\n",
    "def get_bet():\n",
    "    while True: # Condition to keep infinite run untill user input something\n",
    "        betAmount = input(f\"Enter a valid amount you would like to bet on each line that ranges from ${MIN_BET} - ${MAX_BET}\")\n",
    "        #checks if the inputted amount is digit instead of random str, bool or anything other than digits\n",
    "        if betAmount.isdigit(): # checks if input is digit\n",
    "            betAmount = int(betAmount) # by default input comes as str, we have to convert it into a int in case of our use Case\n",
    "            if MIN_BET <= betAmount <= MAX_BET: # if user amount is greater than MIN_BET which is 1 , its valid\n",
    "                break\n",
    "            else: # user must have inputted 0\n",
    "                print(f\"Amount must be between ${MIN_BET} - ${MAX_BET}\")\n",
    "        else: # user inputted some other thing insted of digit\n",
    "            print(\"Please enter a valid Amount\")\n",
    "    return betAmount"
   ]
  },
  {
   "cell_type": "code",
   "execution_count": null,
   "id": "6df40aaa-e619-4be2-a050-4132897dc7e5",
   "metadata": {},
   "outputs": [],
   "source": [
    "# refer our custom dict with this fn code\n",
    "\n",
    "# symbol_count = {\n",
    "#     \"A\":3,\n",
    "#     \"B\":4,\n",
    "#     \"C\":6,\n",
    "#     \"D\":8\n",
    "# }\n",
    "\n",
    "# to concatenate our custom into a list to help random package to random them\n",
    "def get_slot_machine_spins(rows, cols, symbols):\n",
    "    # symbols are in dict dtype\n",
    "    symbol_list = [] # store the results after the for loop performance\n",
    "    for key, val in symbols.items(): # loop through key & val form a dict\n",
    "        for _ in range(val):\n",
    "            symbol_list.append(key)\n",
    "             "
   ]
  },
  {
   "cell_type": "code",
   "execution_count": null,
   "id": "fa37b649-7324-44ee-8f6f-82e1d6765f65",
   "metadata": {},
   "outputs": [],
   "source": []
  },
  {
   "cell_type": "code",
   "execution_count": null,
   "id": "fea27f91-81c6-43e2-bde3-68e525a9f093",
   "metadata": {},
   "outputs": [],
   "source": []
  },
  {
   "cell_type": "code",
   "execution_count": null,
   "id": "16cbcc85-56d8-4e33-acbf-8273c5427dfd",
   "metadata": {},
   "outputs": [],
   "source": []
  },
  {
   "cell_type": "code",
   "execution_count": null,
   "id": "3ee2d841-1301-466c-9ef2-0087893bac80",
   "metadata": {},
   "outputs": [],
   "source": []
  },
  {
   "cell_type": "code",
   "execution_count": 37,
   "id": "b1083377-29ba-4713-bc66-d503da5a1a03",
   "metadata": {},
   "outputs": [
    {
     "name": "stdin",
     "output_type": "stream",
     "text": [
      "What would you like to deposit? $ 100\n",
      "How many lines would you like to bet (1-3)?  4\n"
     ]
    },
    {
     "name": "stdout",
     "output_type": "stream",
     "text": [
      "Enter a valid number of lines that ranges from (1-3)?\n"
     ]
    },
    {
     "name": "stdin",
     "output_type": "stream",
     "text": [
      "How many lines would you like to bet (1-3)?  3\n",
      "Enter a valid amount you would like to bet on each line that ranges from $1 - $100 40\n"
     ]
    },
    {
     "name": "stdout",
     "output_type": "stream",
     "text": [
      "You do not have enough amount to bet, you're current balance is $100, you still need 20 more dollars to procced\n"
     ]
    },
    {
     "name": "stdin",
     "output_type": "stream",
     "text": [
      "Enter a valid amount you would like to bet on each line that ranges from $1 - $100 30\n"
     ]
    },
    {
     "name": "stdout",
     "output_type": "stream",
     "text": [
      "You're betting $30 on 3 lines. Total bet is equal to: $90\n"
     ]
    }
   ],
   "source": [
    "# wrap it up to a single fn 'main'\n",
    "def main():\n",
    "    balance = deposit() \n",
    "    lines = getNumberOfLines()\n",
    "    # making sure the user has enough money based on their valid inputted amount\n",
    "    while True:\n",
    "        bet = get_bet()\n",
    "        # total bet = the bet amount * The amount of lines user choose to play\n",
    "        total_bet = bet * lines\n",
    "        # incase if user needs to see how much more money is required to try\n",
    "        stillNeed = total_bet - balance\n",
    "        if total_bet > balance:\n",
    "            print(f\"You do not have enough amount to bet, you're current balance is ${balance}, you still need {stillNeed} more dollars to procced\")\n",
    "        else:\n",
    "            break\n",
    "    print(f\"You're betting ${bet} on {lines} lines. Total bet is equal to: ${total_bet}\")\n",
    "main() # calls out the wrap up main fn"
   ]
  },
  {
   "cell_type": "code",
   "execution_count": null,
   "id": "84da9bff-1dff-4f27-8001-de867300e342",
   "metadata": {},
   "outputs": [],
   "source": []
  },
  {
   "cell_type": "code",
   "execution_count": null,
   "id": "46cb7740-18c6-4d4d-87e6-f74fb55de464",
   "metadata": {},
   "outputs": [],
   "source": []
  },
  {
   "cell_type": "code",
   "execution_count": null,
   "id": "cfaecc90-bcb3-4567-a038-c9d5ba3a7090",
   "metadata": {},
   "outputs": [],
   "source": []
  },
  {
   "cell_type": "code",
   "execution_count": null,
   "id": "543566cf-a569-4854-9736-9319f3611db1",
   "metadata": {},
   "outputs": [],
   "source": []
  },
  {
   "cell_type": "code",
   "execution_count": null,
   "id": "36cb8958-3ce3-4a10-914f-8b93a870246d",
   "metadata": {},
   "outputs": [],
   "source": []
  },
  {
   "cell_type": "code",
   "execution_count": null,
   "id": "8d70d0c4-ced7-49b9-9134-1432aca8f1db",
   "metadata": {},
   "outputs": [],
   "source": []
  }
 ],
 "metadata": {
  "kernelspec": {
   "display_name": "slotMachiene",
   "language": "python",
   "name": "slotmachiene"
  },
  "language_info": {
   "codemirror_mode": {
    "name": "ipython",
    "version": 3
   },
   "file_extension": ".py",
   "mimetype": "text/x-python",
   "name": "python",
   "nbconvert_exporter": "python",
   "pygments_lexer": "ipython3",
   "version": "3.12.2"
  }
 },
 "nbformat": 4,
 "nbformat_minor": 5
}
